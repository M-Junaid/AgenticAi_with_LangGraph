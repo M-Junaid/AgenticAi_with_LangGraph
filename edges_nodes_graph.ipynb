{
  "nbformat": 4,
  "nbformat_minor": 0,
  "metadata": {
    "colab": {
      "provenance": []
    },
    "kernelspec": {
      "name": "python3",
      "display_name": "Python 3"
    },
    "language_info": {
      "name": "python"
    }
  },
  "cells": [
    {
      "cell_type": "code",
      "execution_count": 30,
      "metadata": {
        "id": "K8vGAPKK_NkR"
      },
      "outputs": [],
      "source": [
        "%%capture --no-stderr\n",
        "# Suppress output and errors while installing required packages\n",
        "%pip install --quiet -U langgraph langchain"
      ]
    },
    {
      "cell_type": "code",
      "source": [
        "# Import the TypedDict class for defining custom types\n",
        "from typing_extensions import TypedDict\n",
        "\n",
        "# Define a custom type to represent the state structure\n",
        "class LearningState(TypedDict):\n",
        "    prompt: str  # Represents the input prompt for the state\n"
      ],
      "metadata": {
        "id": "01ooCGL__av6"
      },
      "execution_count": 31,
      "outputs": []
    },
    {
      "cell_type": "code",
      "source": [
        "# Create an example instance of LearningState\n",
        "lahore_state: LearningState = LearningState(prompt=\"Hello from UMT Lahore\")"
      ],
      "metadata": {
        "id": "1LFGrDAr_vDH"
      },
      "execution_count": 33,
      "outputs": []
    },
    {
      "cell_type": "code",
      "source": [
        "lahore_state"
      ],
      "metadata": {
        "colab": {
          "base_uri": "https://localhost:8080/"
        },
        "id": "n_jns8zhAr3k",
        "outputId": "863494cf-ee17-434e-9372-b5ef1a5cf0c3"
      },
      "execution_count": 34,
      "outputs": [
        {
          "output_type": "execute_result",
          "data": {
            "text/plain": [
              "{'prompt': 'Hello from UMT Lahore'}"
            ]
          },
          "metadata": {},
          "execution_count": 34
        }
      ]
    },
    {
      "cell_type": "code",
      "source": [
        "# Display the current state and its properties\n",
        "print(lahore_state)  # Print the entire state dictionary\n",
        "print(lahore_state[\"prompt\"])  # Print the prompt value\n",
        "print(lahore_state[\"prompt\"] + \" I am\")  # Concatenate additional text to the prompt"
      ],
      "metadata": {
        "colab": {
          "base_uri": "https://localhost:8080/"
        },
        "id": "hw9ZLtgQASjJ",
        "outputId": "dfab064f-5347-4509-f7ec-e0da571882aa"
      },
      "execution_count": 35,
      "outputs": [
        {
          "output_type": "stream",
          "name": "stdout",
          "text": [
            "{'prompt': 'Hello from UMT Lahore'}\n",
            "Hello from UMT Lahore\n",
            "Hello from UMT Lahore I am\n"
          ]
        }
      ]
    },
    {
      "cell_type": "markdown",
      "source": [
        "#Node"
      ],
      "metadata": {
        "id": "71YlcPZoBaPf"
      }
    },
    {
      "cell_type": "code",
      "source": [
        "# Define a function for Node 1\n",
        "# This node appends \" I am \" to the current state's prompt\n",
        "def node_1(state: LearningState) -> LearningState:\n",
        "    print(\"---Node 1 State---\", state)  # Log the current state\n",
        "    return {\"prompt\": state[\"prompt\"] + \" I am \"}  # Modify the state and return it\n",
        "\n",
        "# Define a function for Node 2\n",
        "# This node appends \" Happy!\" to the current state's prompt\n",
        "def node_2(state: LearningState) -> LearningState:\n",
        "    print(\"---Node 2 State---\", state)  # Log the current state\n",
        "    return {\"prompt\": state[\"prompt\"] + \" Happy!\"}  # Modify the state and return it"
      ],
      "metadata": {
        "id": "yzvBqxL3BFfs"
      },
      "execution_count": 36,
      "outputs": []
    },
    {
      "cell_type": "markdown",
      "source": [],
      "metadata": {
        "id": "QpwZW0QEIWwo"
      }
    },
    {
      "cell_type": "code",
      "source": [],
      "metadata": {
        "id": "rxa6rmSzCY4A"
      },
      "execution_count": null,
      "outputs": []
    },
    {
      "cell_type": "markdown",
      "source": [
        "#Edge"
      ],
      "metadata": {
        "id": "deLYc3SMC-vM"
      }
    },
    {
      "cell_type": "code",
      "source": [
        "# Import tools for visualizing the graph\n",
        "from IPython.display import Image, display\n",
        "\n",
        "# Import LangGraph classes to build and manage state graphs\n",
        "from langgraph.graph import StateGraph, START, END\n",
        "from langgraph.graph.state import CompiledStateGraph\n"
      ],
      "metadata": {
        "id": "0nkGGnNVDA_Y"
      },
      "execution_count": 37,
      "outputs": []
    },
    {
      "cell_type": "code",
      "source": [
        "# Initialize a StateGraph builder with the defined state schema\n",
        "builder: StateGraph = StateGraph(state_schema=LearningState)\n",
        "print(type(builder))  # Confirm the type of the builder\n"
      ],
      "metadata": {
        "colab": {
          "base_uri": "https://localhost:8080/"
        },
        "id": "D1_HhAp7Eco7",
        "outputId": "bb780f21-cb0f-40e3-e145-2d115f7e045b"
      },
      "execution_count": 38,
      "outputs": [
        {
          "output_type": "stream",
          "name": "stdout",
          "text": [
            "<class 'langgraph.graph.state.StateGraph'>\n"
          ]
        }
      ]
    },
    {
      "cell_type": "code",
      "source": [
        "# Add the defined nodes to the graph\n",
        "builder.add_node(\"node_1\", node_1)  # Add Node 1 to the graph\n",
        "builder.add_node(\"node_2\", node_2)  # Add Node 2 to the graph"
      ],
      "metadata": {
        "colab": {
          "base_uri": "https://localhost:8080/"
        },
        "id": "BLIb0Z-xFsHM",
        "outputId": "57f100f6-82f3-4086-f179-544f7b2d5850"
      },
      "execution_count": 39,
      "outputs": [
        {
          "output_type": "execute_result",
          "data": {
            "text/plain": [
              "<langgraph.graph.state.StateGraph at 0x7def938672e0>"
            ]
          },
          "metadata": {},
          "execution_count": 39
        }
      ]
    },
    {
      "cell_type": "code",
      "source": [
        "# Define the connections (edges) between the nodes\n",
        "builder.add_edge(START, \"node_1\")  # Connect START to Node 1\n",
        "builder.add_edge(\"node_1\", \"node_2\")  # Connect Node 1 to Node 2\n",
        "builder.add_edge(\"node_2\", END)  # Connect Node 2 to END"
      ],
      "metadata": {
        "colab": {
          "base_uri": "https://localhost:8080/"
        },
        "id": "bvQ9e67TGL6m",
        "outputId": "fa8058ba-6705-4786-ae62-c4595f3ea324"
      },
      "execution_count": 40,
      "outputs": [
        {
          "output_type": "execute_result",
          "data": {
            "text/plain": [
              "<langgraph.graph.state.StateGraph at 0x7def938672e0>"
            ]
          },
          "metadata": {},
          "execution_count": 40
        }
      ]
    },
    {
      "cell_type": "code",
      "source": [
        "# Compile the graph into an executable structure\n",
        "graph: CompiledStateGraph = builder.compile()\n",
        "print(graph)  # Display the compiled graph details\n"
      ],
      "metadata": {
        "colab": {
          "base_uri": "https://localhost:8080/"
        },
        "id": "bQUj8oFmGqAx",
        "outputId": "8d4b3476-c612-48de-b28a-ff8e6169f546"
      },
      "execution_count": 41,
      "outputs": [
        {
          "output_type": "stream",
          "name": "stdout",
          "text": [
            "<langgraph.graph.state.CompiledStateGraph object at 0x7def938646a0>\n"
          ]
        }
      ]
    },
    {
      "cell_type": "code",
      "source": [
        "# Visualize the graph using Mermaid and display it as an image\n",
        "print(graph.get_graph())  # Print the graph structure\n",
        "display(Image(graph.get_graph().draw_mermaid_png()))  # Render and display the graph\n"
      ],
      "metadata": {
        "colab": {
          "base_uri": "https://localhost:8080/",
          "height": 387
        },
        "id": "uQANYwUFHxqm",
        "outputId": "540a555c-2ae2-4d43-875f-dd9be9529115"
      },
      "execution_count": 42,
      "outputs": [
        {
          "output_type": "stream",
          "name": "stdout",
          "text": [
            "Graph(nodes={'__start__': Node(id='__start__', name='__start__', data=<class 'langchain_core.utils.pydantic.LangGraphInput'>, metadata=None), 'node_1': Node(id='node_1', name='node_1', data=node_1(tags=None, recurse=True, func_accepts_config=False, func_accepts={'writer': False, 'store': False}), metadata=None), 'node_2': Node(id='node_2', name='node_2', data=node_2(tags=None, recurse=True, func_accepts_config=False, func_accepts={'writer': False, 'store': False}), metadata=None), '__end__': Node(id='__end__', name='__end__', data=<class 'langchain_core.utils.pydantic.LangGraphOutput'>, metadata=None)}, edges=[Edge(source='__start__', target='node_1', data=None, conditional=False), Edge(source='node_1', target='node_2', data=None, conditional=False), Edge(source='node_2', target='__end__', data=None, conditional=False)])\n"
          ]
        },
        {
          "output_type": "display_data",
          "data": {
            "image/png": "[encoded data removed]",
            "text/plain": [
              "<IPython.core.display.Image object>"
            ]
          },
          "metadata": {}
        }
      ]
    },
    {
      "cell_type": "markdown",
      "source": [
        "#Graph Invocation"
      ],
      "metadata": {
        "id": "Erds60oxKRHh"
      }
    },
    {
      "cell_type": "code",
      "source": [
        "# Test the graph with an initial state\n",
        "graph.invoke({\"prompt\": \"My Name is Junaid\"})  # Run the graph with a sample input state"
      ],
      "metadata": {
        "colab": {
          "base_uri": "https://localhost:8080/"
        },
        "id": "TisAaoBhJgbv",
        "outputId": "6efae2e7-c57a-4907-e076-c23c6e87ea4a"
      },
      "execution_count": 43,
      "outputs": [
        {
          "output_type": "stream",
          "name": "stdout",
          "text": [
            "---Node 1 State--- {'prompt': 'My Name is Junaid'}\n",
            "---Node 2 State--- {'prompt': 'My Name is Junaid I am '}\n"
          ]
        },
        {
          "output_type": "execute_result",
          "data": {
            "text/plain": [
              "{'prompt': 'My Name is Junaid I am  Happy!'}"
            ]
          },
          "metadata": {},
          "execution_count": 43
        }
      ]
    },
    {
      "cell_type": "code",
      "source": [],
      "metadata": {
        "id": "CT-msUc3fDpE"
      },
      "execution_count": null,
      "outputs": []
    },
    {
      "cell_type": "markdown",
      "source": [
        "#Task: In Nodes Use LLM == GoogleChatModel in Langchain"
      ],
      "metadata": {
        "id": "NoGr9v19h28g"
      }
    },
    {
      "cell_type": "code",
      "source": [
        "# Task: Use Google ChatModel LLM in Nodes\n",
        "%pip install -qU langchain  # Install LangChain library\n",
        "%pip install -qU langchain-google-genai  # Install Google GenAI integration"
      ],
      "metadata": {
        "id": "UHtt6RH9Jm14"
      },
      "execution_count": 44,
      "outputs": []
    },
    {
      "cell_type": "code",
      "source": [
        "# Import the Colab user data module to access API keys\n",
        "from google.colab import userdata\n",
        "\n",
        "# Retrieve the Google API key from user data\n",
        "google_api_key = userdata.get(\"GOOGLE_API_KEY\")"
      ],
      "metadata": {
        "id": "d8gtKNT9JtDc"
      },
      "execution_count": 45,
      "outputs": []
    },
    {
      "cell_type": "code",
      "source": [
        "# Import the ChatGoogleGenerativeAI wrapper for Google Generative AI\n",
        "from langchain_google_genai import ChatGoogleGenerativeAI\n",
        "\n",
        "# Initialize the Google Generative AI model\n",
        "llm: ChatGoogleGenerativeAI = ChatGoogleGenerativeAI(\n",
        "    model=\"gemini-1.5-flash\",  # Specify the model version\n",
        "    api_key=google_api_key,  # Provide the API key for authentication\n",
        ")"
      ],
      "metadata": {
        "id": "SWLu-c6QJxrh"
      },
      "execution_count": 46,
      "outputs": []
    },
    {
      "cell_type": "code",
      "source": [
        "# Test the LLM by invoking it with a sample prompt\n",
        "from langchain_core.messages.ai import AIMessage\n",
        "ai_msg: AIMessage = llm.invoke(\"hi\")  # Send a simple greeting to the LLM"
      ],
      "metadata": {
        "id": "Ei1FJphPJ4XT"
      },
      "execution_count": 47,
      "outputs": []
    },
    {
      "cell_type": "code",
      "source": [
        "print(ai_msg.content)  # Print the LLM's response\n",
        "print(type(ai_msg.content))  # Confirm the type of the response"
      ],
      "metadata": {
        "colab": {
          "base_uri": "https://localhost:8080/"
        },
        "id": "RIymAQLVJ8ST",
        "outputId": "68558b87-7d48-42f8-a3dc-c2462914b19b"
      },
      "execution_count": 48,
      "outputs": [
        {
          "output_type": "stream",
          "name": "stdout",
          "text": [
            "Hi there! How can I help you today?\n",
            "<class 'str'>\n"
          ]
        }
      ]
    },
    {
      "cell_type": "code",
      "source": [
        "# Define a new state type that includes LLM output\n",
        "class FirstLLMAgentCall(TypedDict):\n",
        "    prompt: str  # Input prompt for the LLM\n",
        "    output: str  # Output from the LLM"
      ],
      "metadata": {
        "id": "uwcJJeufKJzt"
      },
      "execution_count": 49,
      "outputs": []
    },
    {
      "cell_type": "code",
      "source": [
        "# Define a function for Node 1 with LLM integration\n",
        "# This node processes the prompt using the LLM and stores the result in the output\n",
        "def node_1(state: FirstLLMAgentCall):\n",
        "    print(\"---Node 1 State---\", state)  # Log the current state\n",
        "    prompt = state[\"prompt\"]  # Extract the prompt from the state\n",
        "    ai_msg: AIMessage = llm.invoke(prompt)  # Invoke the LLM with the prompt\n",
        "    return {\"output\": ai_msg.content}  # Return the LLM's response as output"
      ],
      "metadata": {
        "id": "bAzu_XoJKQoM"
      },
      "execution_count": 50,
      "outputs": []
    },
    {
      "cell_type": "code",
      "source": [
        "# Test the LLM-integrated Node 1 function\n",
        "junaid_greet_message = node_1(FirstLLMAgentCall(prompt=\"Hello from Junaid\"))\n",
        "print(junaid_greet_message)  # Display the result of the LLM invocation"
      ],
      "metadata": {
        "colab": {
          "base_uri": "https://localhost:8080/"
        },
        "id": "SDF9oG1bKYiS",
        "outputId": "97fdd839-2ea3-4d9a-ca8f-81861f57cbb5"
      },
      "execution_count": 51,
      "outputs": [
        {
          "output_type": "stream",
          "name": "stdout",
          "text": [
            "---Node 1 State--- {'prompt': 'Hello from Junaid'}\n",
            "{'output': 'Hello Junaid! How can I help you today?'}\n"
          ]
        }
      ]
    },
    {
      "cell_type": "code",
      "source": [
        "from IPython.display import Image, display\n",
        "\n",
        "from langgraph.graph import StateGraph, START, END\n",
        "from langgraph.graph.state import CompiledStateGraph\n",
        "\n",
        "# Build a new graph for the LLM-based flow\n",
        "builder: StateGraph = StateGraph(state_schema=FirstLLMAgentCall)\n",
        "\n",
        "# Add the LLM-integrated Node 1 to the graph\n",
        "builder.add_node(\"node_1\", node_1)  # Add Node 1 to the graph\n",
        "\n",
        "# Define the edges for the new graph\n",
        "builder.add_edge(START, \"node_1\")  # Connect START to Node 1\n",
        "builder.add_edge(\"node_1\", END)  # Connect Node 1 to END\n",
        "\n",
        "# Compile the graph for execution\n",
        "graph: CompiledStateGraph = builder.compile()\n"
      ],
      "metadata": {
        "id": "p_pHoHrZmjzV"
      },
      "execution_count": 52,
      "outputs": []
    },
    {
      "cell_type": "code",
      "source": [
        "# Visualize the new graph\n",
        "print(graph.get_graph())  # Print the graph structure\n",
        "display(Image(graph.get_graph().draw_mermaid_png()))  # Render and display the graph"
      ],
      "metadata": {
        "colab": {
          "base_uri": "https://localhost:8080/",
          "height": 288
        },
        "id": "Ppsr0h8tK4MQ",
        "outputId": "7ff59cfe-2c0d-467d-83a9-f627d1357ceb"
      },
      "execution_count": 53,
      "outputs": [
        {
          "output_type": "stream",
          "name": "stdout",
          "text": [
            "Graph(nodes={'__start__': Node(id='__start__', name='__start__', data=<class 'langchain_core.utils.pydantic.LangGraphInput'>, metadata=None), 'node_1': Node(id='node_1', name='node_1', data=node_1(tags=None, recurse=True, func_accepts_config=False, func_accepts={'writer': False, 'store': False}), metadata=None), '__end__': Node(id='__end__', name='__end__', data=<class 'langchain_core.utils.pydantic.LangGraphOutput'>, metadata=None)}, edges=[Edge(source='__start__', target='node_1', data=None, conditional=False), Edge(source='node_1', target='__end__', data=None, conditional=False)])\n"
          ]
        },
        {
          "output_type": "display_data",
          "data": {
            "image/png": "[encoded data removed]",
            "text/plain": [
              "<IPython.core.display.Image object>"
            ]
          },
          "metadata": {}
        }
      ]
    },
    {
      "cell_type": "code",
      "source": [
        "# Test the LLM-based graph with a motivational prompt\n",
        "result = graph.invoke(FirstLLMAgentCall({\"prompt\": \"Motivate me to learn LangGraph\"}))\n",
        "print(result)  # Print the final output"
      ],
      "metadata": {
        "colab": {
          "base_uri": "https://localhost:8080/"
        },
        "id": "_EeGv4rAK_gi",
        "outputId": "ae96e0b6-f5a2-4d0d-d9dc-726b7c80fb27"
      },
      "execution_count": 54,
      "outputs": [
        {
          "output_type": "stream",
          "name": "stdout",
          "text": [
            "---Node 1 State--- {'prompt': 'Motivate me to learn LangGraph'}\n",
            "{'prompt': 'Motivate me to learn LangGraph', 'output': 'Let\\'s talk about why you should learn LangGraph.  Forget the jargon for a moment and focus on the *impact* you can have.\\n\\n**Imagine this:**\\n\\n* **You\\'re a data scientist:**  You\\'re drowning in unstructured text data – customer reviews, social media posts, research papers.  LangGraph gives you the power to untangle that mess, revealing hidden relationships and insights that traditional methods miss.  Imagine extracting actionable intelligence from that data, far faster and more accurately than ever before.  You become the hero who unlocks the hidden value in the data deluge.\\n\\n* **You\\'re a software engineer:** You\\'re building the next generation of AI-powered applications.  LangGraph provides a powerful toolkit for building sophisticated natural language processing (NLP) systems.  Imagine creating applications that understand context, nuance, and relationships in language, leading to more intuitive and powerful user experiences. You\\'re at the forefront of innovation, shaping the future of how humans interact with technology.\\n\\n* **You\\'re a researcher:** You\\'re exploring the complexities of language and knowledge representation.  LangGraph offers a unique and powerful framework for experimenting with new ideas and pushing the boundaries of what\\'s possible in NLP. Imagine making groundbreaking discoveries, contributing to the advancement of the field, and publishing your findings in top-tier journals.\\n\\n**Here\\'s what makes LangGraph compelling:**\\n\\n* **Uniqueness:**  It\\'s not just another NLP library.  It offers a novel approach to knowledge representation and reasoning, giving you a competitive edge.\\n* **Power:**  It tackles complex tasks that are difficult or impossible for traditional methods, enabling you to solve real-world problems.\\n* **Future-proof:**  The demand for advanced NLP skills is exploding.  Learning LangGraph positions you for a high-demand, high-reward career.\\n* **Community:**  While it might be relatively new, being an early adopter gives you a chance to contribute to its development and become a leader in the field.\\n\\nDon\\'t just learn it because it\\'s \"cool\"—learn it because it\\'s a powerful tool that can significantly enhance your career and contribute to meaningful advancements in the field.  The challenge is exciting, the potential rewards are immense, and you have the capability to master it.  Let\\'s get started!'}\n"
          ]
        }
      ]
    },
    {
      "cell_type": "code",
      "source": [],
      "metadata": {
        "id": "NHJAbrVXrZpa"
      },
      "execution_count": null,
      "outputs": []
    }
  ]
}